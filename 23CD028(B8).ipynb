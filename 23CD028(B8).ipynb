{
 "cells": [
  {
   "cell_type": "code",
   "execution_count": 10,
   "id": "060d6b08-4204-47c3-a1d3-1978a93aca21",
   "metadata": {},
   "outputs": [
    {
     "name": "stdout",
     "output_type": "stream",
     "text": [
      "[[P, ~Q], [~P, Q], [~P, ~Q]]\n",
      "     \n",
      "[P, ~Q]\n",
      "[~P, Q]\n",
      "[Q, P, ~Q, ~P]\n",
      "     \n",
      "[P, ~Q]\n",
      "[~P, ~Q]\n",
      "[~Q]\n",
      "     \n",
      "[~P, Q]\n",
      "[~P, ~Q]\n",
      "[~P]\n",
      "     \n",
      "[[P, ~Q], [~P, Q], [~P, ~Q], [Q, P, ~Q, ~P], [~Q], [~P]]\n",
      "     \n",
      "[P, ~Q]\n",
      "[~P, Q]\n",
      "[Q, P, ~Q, ~P]\n",
      "     \n",
      "[P, ~Q]\n",
      "[~P, ~Q]\n",
      "[~Q]\n",
      "     \n",
      "[P, ~Q]\n",
      "[Q, P, ~Q, ~P]\n",
      "[Q, P, ~Q, ~P]\n",
      "     \n",
      "[P, ~Q]\n",
      "[~Q]\n",
      "[]\n",
      "     \n",
      "The set of clauses is unsatisfiable(contradiction found)\n"
     ]
    }
   ],
   "source": [
    "from sympy import symbols,Not,Or,simplify\n",
    "def resolve(clause1,clause2):\n",
    "    resolvent=[]\n",
    "    for literal1 in clause1:\n",
    "        for literal2 in clause2:\n",
    "            if literal1==Not(literal2)or literal2==Not(literal1):\n",
    "                resolvent.extend([l for l in (clause1+clause2)if l != literal1 and l !=literal2])\n",
    "    return list(set(resolvent))\n",
    "def resolution(clauses):\n",
    "    new_clauses=list(clauses)\n",
    "    while True:\n",
    "        n=len(new_clauses)\n",
    "        print(new_clauses)\n",
    "        print(\"     \")\n",
    "        pairs=[(new_clauses[i],new_clauses[j]) for i in range(n) for j in range(i+1,n)]\n",
    "        for(clause1,clause2)in pairs:\n",
    "            print(clause1)\n",
    "            print(clause2)\n",
    "            resolvent=resolve(clause1,clause2)\n",
    "            print(resolvent)\n",
    "            print(\"     \")\n",
    "            if not resolvent:\n",
    "                return True\n",
    "            if resolvent not in new_clauses:\n",
    "                new_clauses.append(resolvent)\n",
    "        if n==len(new_clauses):\n",
    "            return False\n",
    "if __name__ ==\"__main__\":\n",
    "    clause1=[symbols('P'),Not(symbols('Q'))]\n",
    "    clause2=[Not(symbols('P')),symbols('Q')]\n",
    "    clause3=[Not(symbols('P')),Not(symbols('Q'))]\n",
    "    clauses=[clause1,clause2,clause3]\n",
    "    result=resolution(clauses)\n",
    "    if result:\n",
    "        print(\"The set of clauses is unsatisfiable(contradiction found)\")\n",
    "    else:\n",
    "        print(\"The set of clauses is satisfiable\")"
   ]
  },
  {
   "cell_type": "code",
   "execution_count": null,
   "id": "c22a9936-26e4-421d-9cd3-c788f3ff2d32",
   "metadata": {},
   "outputs": [],
   "source": []
  }
 ],
 "metadata": {
  "kernelspec": {
   "display_name": "Python 3 (ipykernel)",
   "language": "python",
   "name": "python3"
  },
  "language_info": {
   "codemirror_mode": {
    "name": "ipython",
    "version": 3
   },
   "file_extension": ".py",
   "mimetype": "text/x-python",
   "name": "python",
   "nbconvert_exporter": "python",
   "pygments_lexer": "ipython3",
   "version": "3.13.5"
  }
 },
 "nbformat": 4,
 "nbformat_minor": 5
}
