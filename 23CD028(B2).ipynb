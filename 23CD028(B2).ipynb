{
 "cells": [
  {
   "cell_type": "code",
   "execution_count": 3,
   "id": "ae5d5779-ff2d-44e5-a167-379523484a6f",
   "metadata": {},
   "outputs": [
    {
     "name": "stdout",
     "output_type": "stream",
     "text": [
      "before [1]\n",
      "after [2]\n",
      "after [2, 9]\n",
      "after [2, 9, 10]\n",
      "before [2, 9, 10]\n",
      "after [9, 10, 3]\n",
      "after [9, 10, 3, 4]\n",
      "before [9, 10, 3, 4]\n",
      "before [10, 3, 4]\n",
      "before [3, 4]\n",
      "before [4]\n",
      "after [5]\n",
      "after [5, 6]\n",
      "after [5, 6, 7]\n",
      "before [5, 6, 7]\n",
      "after [6, 7, 8]\n",
      "before [6, 7, 8]\n",
      "before [7, 8]\n",
      "before [8]\n",
      "[1, 2, 9, 10, 3, 4, 5, 6, 7, 8]\n"
     ]
    }
   ],
   "source": [
    "tree={\n",
    "    1:[2,9,10],2:[3,4],3:[],4:[5,6,7],\n",
    "    5:[8],6:[],7:[],8:[],9:[],10:[]\n",
    "}\n",
    "def breadth_first_search(tree,start):\n",
    "    q=[start]\n",
    "    visited=[]\n",
    "    while q:\n",
    "        print(\"before\",q)\n",
    "        node=q.pop(0)\n",
    "        visited.append(node)\n",
    "        for child in (tree[node]):\n",
    "            if child not in visited and child not in q:\n",
    "                q.append(child)\n",
    "            print(\"after\",q)\n",
    "    return visited\n",
    "result=breadth_first_search(tree,1)\n",
    "print(result)"
   ]
  },
  {
   "cell_type": "code",
   "execution_count": null,
   "id": "7d7fc17a-5077-47aa-9b76-7de9bc178c3d",
   "metadata": {},
   "outputs": [],
   "source": []
  }
 ],
 "metadata": {
  "kernelspec": {
   "display_name": "Python [conda env:base] *",
   "language": "python",
   "name": "conda-base-py"
  },
  "language_info": {
   "codemirror_mode": {
    "name": "ipython",
    "version": 3
   },
   "file_extension": ".py",
   "mimetype": "text/x-python",
   "name": "python",
   "nbconvert_exporter": "python",
   "pygments_lexer": "ipython3",
   "version": "3.13.5"
  }
 },
 "nbformat": 4,
 "nbformat_minor": 5
}
