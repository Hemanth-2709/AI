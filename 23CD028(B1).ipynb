{
 "cells": [
  {
   "cell_type": "code",
   "execution_count": 1,
   "id": "601aeb5d-87d6-4424-971d-c6f376c12f80",
   "metadata": {},
   "outputs": [
    {
     "name": "stdout",
     "output_type": "stream",
     "text": [
      "solution found:\n",
      "(0,0)\n",
      "(0,3)\n",
      "(3,0)\n",
      "(3,3)\n",
      "(4,2)\n"
     ]
    }
   ],
   "source": [
    "def water_jug_dfs(capacity_x,capacity_y,target):\n",
    "    stack=[(0,0,[])]\n",
    "    visited_states=set()\n",
    "    while stack:\n",
    "        x,y,path=stack.pop()\n",
    "        if(x,y)in visited_states:\n",
    "            continue\n",
    "        visited_states.add((x,y))\n",
    "        if x==target or y==target:\n",
    "            return path +[(x,y)]\n",
    "        operations=[(\"fill_x\",capacity_x,y),\n",
    "            (\"fill_y\",x,capacity_y),\n",
    "            (\"empty_x\",0,y),\n",
    "            (\"empty y_y\",x,0),\n",
    "            (\"pour_x_to_y\",max(0,x-(capacity_y-y)),min(capacity_y,y+x)),\n",
    "            (\"pour_y_to_x\",min(capacity_x,x+y),max(0,y-(capacity_x-x))),\n",
    "                   ]\n",
    "        for operation,new_x,new_y in operations:\n",
    "            if 0<= new_x <= capacity_x and 0<= new_y <= capacity_y:\n",
    "                stack.append((new_x,new_y,path+[(x,y,operation)]))\n",
    "    return None\n",
    "\n",
    "capacity_x=4\n",
    "capacity_y=3\n",
    "target=2\n",
    "solution_path=water_jug_dfs(capacity_x,capacity_y,target)\n",
    "if solution_path:\n",
    "    print(\"solution found:\")\n",
    "    for state in solution_path:\n",
    "        print(f\"({state[0]},{state[1]})\")\n",
    "else:\n",
    "    print(\"No solution found.\")"
   ]
  },
  {
   "cell_type": "code",
   "execution_count": null,
   "id": "19c57eb2-e4db-4161-a81f-7f2658dbb69f",
   "metadata": {},
   "outputs": [],
   "source": []
  }
 ],
 "metadata": {
  "kernelspec": {
   "display_name": "Python [conda env:base] *",
   "language": "python",
   "name": "conda-base-py"
  },
  "language_info": {
   "codemirror_mode": {
    "name": "ipython",
    "version": 3
   },
   "file_extension": ".py",
   "mimetype": "text/x-python",
   "name": "python",
   "nbconvert_exporter": "python",
   "pygments_lexer": "ipython3",
   "version": "3.13.5"
  }
 },
 "nbformat": 4,
 "nbformat_minor": 5
}
