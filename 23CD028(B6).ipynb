{
 "cells": [
  {
   "cell_type": "code",
   "execution_count": 8,
   "id": "67e9278b-1f49-4e0f-a77f-3b39e57ba083",
   "metadata": {},
   "outputs": [
    {
     "name": "stdout",
     "output_type": "stream",
     "text": [
      "Optimal Tour      : (0, 2, 3, 1)\n",
      "Minimum Distance  : 100\n"
     ]
    }
   ],
   "source": [
    "from itertools import permutations\n",
    "def calculate_total_distance(tour,distances):\n",
    "    total_distance=0\n",
    "    for i in range(len(tour)-1):\n",
    "        total_distance += distances[tour[i]][tour[i+1]]\n",
    "        total_distance += distances[tour[-1]][tour[0]]\n",
    "    return total_distance\n",
    "def traveling_salesman_bruteforce(distances):\n",
    "    cities = range(len(distances))\n",
    "    min_distance = float('inf')\n",
    "    optimal_tour = None\n",
    "    for tour in permutations(cities):\n",
    "        distance = calculate_total_distance(tour,distances)\n",
    "        if distance < min_distance:\n",
    "            min_distance = distance\n",
    "            optimal_tour = tour\n",
    "    return optimal_tour,min_distance\n",
    "distances_matrix = [[0,10,15,20],\n",
    "                  [10,0,35,25],\n",
    "                  [15,35,0,30],\n",
    "                  [20,25,30,0]\n",
    "                 ]\n",
    "optimal_tour,min_distance = traveling_salesman_bruteforce(distances_matrix)\n",
    "print(\"Optimal Tour      :\",optimal_tour)\n",
    "print(\"Minimum Distance  :\",min_distance)"
   ]
  },
  {
   "cell_type": "code",
   "execution_count": null,
   "id": "cd2eb2a8-b18d-46ba-b246-6228a5c15409",
   "metadata": {},
   "outputs": [],
   "source": []
  }
 ],
 "metadata": {
  "kernelspec": {
   "display_name": "Python 3 (ipykernel)",
   "language": "python",
   "name": "python3"
  },
  "language_info": {
   "codemirror_mode": {
    "name": "ipython",
    "version": 3
   },
   "file_extension": ".py",
   "mimetype": "text/x-python",
   "name": "python",
   "nbconvert_exporter": "python",
   "pygments_lexer": "ipython3",
   "version": "3.13.5"
  }
 },
 "nbformat": 4,
 "nbformat_minor": 5
}
