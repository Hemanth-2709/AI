{
 "cells": [
  {
   "cell_type": "code",
   "execution_count": 8,
   "id": "d6b760c2-d484-44f0-984c-abc3eeea2eed",
   "metadata": {},
   "outputs": [
    {
     "name": "stdout",
     "output_type": "stream",
     "text": [
      "\n",
      "| | | |\n",
      "| | | |\n",
      "| | | |\n",
      "\n",
      "your turn player 1\n"
     ]
    },
    {
     "name": "stdin",
     "output_type": "stream",
     "text": [
      "Enter your move(1-9): 5\n"
     ]
    },
    {
     "name": "stdout",
     "output_type": "stream",
     "text": [
      "\n",
      "| | | |\n",
      "| |X| |\n",
      "| | | |\n",
      "\n",
      "your turn player 2\n"
     ]
    },
    {
     "name": "stdin",
     "output_type": "stream",
     "text": [
      "Enter your move(1-9): 7\n"
     ]
    },
    {
     "name": "stdout",
     "output_type": "stream",
     "text": [
      "\n",
      "| | | |\n",
      "| |X| |\n",
      "|0| | |\n",
      "\n",
      "your turn player 1\n"
     ]
    },
    {
     "name": "stdin",
     "output_type": "stream",
     "text": [
      "Enter your move(1-9): 1\n"
     ]
    },
    {
     "name": "stdout",
     "output_type": "stream",
     "text": [
      "\n",
      "|X| | |\n",
      "| |X| |\n",
      "|0| | |\n",
      "\n",
      "your turn player 2\n"
     ]
    },
    {
     "name": "stdin",
     "output_type": "stream",
     "text": [
      "Enter your move(1-9): 3\n"
     ]
    },
    {
     "name": "stdout",
     "output_type": "stream",
     "text": [
      "\n",
      "|X| |0|\n",
      "| |X| |\n",
      "|0| | |\n",
      "\n",
      "your turn player 1\n"
     ]
    },
    {
     "name": "stdin",
     "output_type": "stream",
     "text": [
      "Enter your move(1-9): 9\n"
     ]
    },
    {
     "name": "stdout",
     "output_type": "stream",
     "text": [
      "\n",
      "|X| |0|\n",
      "| |X| |\n",
      "|0| |X|\n",
      "\n",
      "X wins! Congratulations!\n"
     ]
    }
   ],
   "source": [
    "board=[\" \" for x in range(9)]\n",
    "def print_board():\n",
    "    row1=\"|{}|{}|{}|\".format(board[0],board[1],board[2])\n",
    "    row2=\"|{}|{}|{}|\".format(board[3],board[4],board[5])\n",
    "    row3=\"|{}|{}|{}|\".format(board[6],board[7],board[8])\n",
    "    print()\n",
    "    print(row1)\n",
    "    print(row2)\n",
    "    print(row3)\n",
    "    print()\n",
    "\n",
    "def player_move(icon):\n",
    "    if icon ==\"X\":\n",
    "       number =1\n",
    "    elif icon == \"0\":\n",
    "        number =2\n",
    "    print(\"your turn player {}\".format(number))\n",
    "    choice = int(input(\"Enter your move(1-9):\").strip())\n",
    "    if board[choice-1]==\" \":\n",
    "       board[choice-1]=icon\n",
    "    else:\n",
    "        print()\n",
    "        print(\"That space is taken!\")\n",
    "\n",
    "def is_victory(icon):\n",
    "    if (board[0] == icon and board[1] == icon and board[2] ==icon) or \\\n",
    "       (board[3] == icon and board[4] == icon and board[5] ==icon) or \\\n",
    "       (board[6] == icon and board[7] == icon and board[8] ==icon) or \\\n",
    "       (board[0] == icon and board[3] == icon and board[6] ==icon) or \\\n",
    "       (board[1] == icon and board[4] == icon and board[7] ==icon) or \\\n",
    "       (board[2] == icon and board[5] == icon and board[8] ==icon) or \\\n",
    "       (board[0] == icon and board[4] == icon and board[8] ==icon) or \\\n",
    "       (board[2] == icon and board[4] == icon and board[6] ==icon):\n",
    "       return True\n",
    "    else:\n",
    "       return False\n",
    "\n",
    "def is_draw():\n",
    "    if \" \" not in board:\n",
    "        return True\n",
    "    else:\n",
    "        return False\n",
    "while True:\n",
    "    print_board()\n",
    "    player_move(\"X\")\n",
    "    print_board()\n",
    "    if is_victory(\"X\"):\n",
    "        print(\"X wins! Congratulations!\")\n",
    "        break\n",
    "    elif is_draw():\n",
    "        print(\"it's a draw!\")\n",
    "        break\n",
    "    player_move(\"0\")\n",
    "    if is_victory(\"0\"):\n",
    "        print_board()\n",
    "        print(\"0 wins! Congratulations!\")\n",
    "        break\n",
    "    elif is_draw():\n",
    "        print(\"it's a draw!\")\n",
    "        break"
   ]
  },
  {
   "cell_type": "code",
   "execution_count": null,
   "id": "c7e869b1-5649-46a4-b519-4163239ee567",
   "metadata": {},
   "outputs": [],
   "source": []
  }
 ],
 "metadata": {
  "kernelspec": {
   "display_name": "Python 3 (ipykernel)",
   "language": "python",
   "name": "python3"
  },
  "language_info": {
   "codemirror_mode": {
    "name": "ipython",
    "version": 3
   },
   "file_extension": ".py",
   "mimetype": "text/x-python",
   "name": "python",
   "nbconvert_exporter": "python",
   "pygments_lexer": "ipython3",
   "version": "3.13.5"
  }
 },
 "nbformat": 4,
 "nbformat_minor": 5
}
