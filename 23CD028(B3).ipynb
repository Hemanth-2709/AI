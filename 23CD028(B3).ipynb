{
 "cells": [
  {
   "cell_type": "code",
   "execution_count": 2,
   "id": "311613af-fe52-4aa4-b499-cfd6d80b2611",
   "metadata": {},
   "outputs": [
    {
     "name": "stdout",
     "output_type": "stream",
     "text": [
      "COST: 17\n",
      "PATH: [0, 2, 3, 4, 6]\n",
      "COST: 18\n",
      "PATH: [0, 2, 4, 6]\n",
      "COST: 21\n",
      "PATH: [0, 1, 4, 6]\n",
      "COST: 25\n",
      "PATH: [0, 1, 5, 6]\n"
     ]
    }
   ],
   "source": [
    "inf=99999\n",
    "g=[\n",
    "    [0,4,3,inf,inf,inf,inf],\n",
    "    [inf,0,inf,inf,12,5,inf],\n",
    "    [inf,inf,0,7,10,inf,inf],\n",
    "    [inf,inf,inf,0,2,inf,inf],\n",
    "    [inf,inf,inf,inf,0,inf,5],\n",
    "    [inf,inf,inf,inf,inf,0,16],\n",
    "    [inf,inf,inf,inf,inf,inf,0],\n",
    "]\n",
    "h=[14,12,11,6,4,11,0]\n",
    "src=0\n",
    "goal=6\n",
    "class obj:\n",
    "    def __init__(self,cost,path):\n",
    "        self.cost=cost\n",
    "        self.path=path\n",
    "arr=[]\n",
    "new_item=obj(h[src],[src])\n",
    "arr.append(new_item)\n",
    "while arr:\n",
    "    cur_item=arr[0]\n",
    "    cur_node=cur_item.path[-1]\n",
    "    cur_cost=cur_item.cost\n",
    "    cur_path=cur_item.path\n",
    "    for i in range(0,len(h)):\n",
    "        if g[cur_node][i]!=inf and g[cur_node][i]!=0:\n",
    "            new_cost=cur_cost-h[cur_node]+h[i]+g[cur_node][i]\n",
    "            new_path=cur_path.copy()\n",
    "            new_path.append(i)\n",
    "            if i==goal:\n",
    "                print(\"COST:\",new_cost)\n",
    "                print(\"PATH:\",new_path)\n",
    "            new_item=obj(new_cost,new_path)\n",
    "            arr.append(new_item)\n",
    "    arr.pop(0)\n",
    "    arr=sorted(arr,key=lambda item:item.cost)"
   ]
  },
  {
   "cell_type": "code",
   "execution_count": null,
   "id": "c2924f67-f78a-4c2e-b0a3-e2db3e1eefba",
   "metadata": {},
   "outputs": [],
   "source": []
  }
 ],
 "metadata": {
  "kernelspec": {
   "display_name": "Python [conda env:base] *",
   "language": "python",
   "name": "conda-base-py"
  },
  "language_info": {
   "codemirror_mode": {
    "name": "ipython",
    "version": 3
   },
   "file_extension": ".py",
   "mimetype": "text/x-python",
   "name": "python",
   "nbconvert_exporter": "python",
   "pygments_lexer": "ipython3",
   "version": "3.13.5"
  }
 },
 "nbformat": 4,
 "nbformat_minor": 5
}
