{
 "cells": [
  {
   "cell_type": "code",
   "execution_count": 1,
   "id": "70147732-ac28-49ef-aef9-2ec386c5a5d7",
   "metadata": {},
   "outputs": [
    {
     "name": "stdout",
     "output_type": "stream",
     "text": [
      "The substring'ab'occurs1times in the main string.\n",
      "7\n"
     ]
    }
   ],
   "source": [
    "def count_occurrences(main_string,substring):\n",
    "    count=0\n",
    "    start_index=0\n",
    "    while start_index<len(main_string):\n",
    "        index=main_string.find(substring,start_index)\n",
    "        if index==-1:\n",
    "            break\n",
    "        count=+1\n",
    "        start_index=index+1\n",
    "    return count\n",
    "main_string=\"ababababab ab ab\"\n",
    "substring=\"ab\"\n",
    "result=count_occurrences(main_string,substring)\n",
    "print(f\"The substring'{substring}'occurs{result}times in the main string.\")\n",
    "print(main_string.count(substring))"
   ]
  },
  {
   "cell_type": "code",
   "execution_count": 2,
   "id": "244d429a-2f25-44e4-b1b8-b0a7fa9b0bd2",
   "metadata": {},
   "outputs": [
    {
     "name": "stdout",
     "output_type": "stream",
     "text": [
      "The key\"b\"exists in the dictionary.\n",
      "Traversing the dictionary.\n",
      "key:a,value:1\n",
      "key:b,value:2\n",
      "key:c,value:3\n",
      "key:d,value:4\n",
      "\n",
      "Using dictionary methods:\n",
      "Keys:['a', 'b', 'c', 'd']\n",
      "Values:[1, 2, 3, 4]\n",
      "Items:[('a', 1), ('b', 2), ('c', 3), ('d', 4)]\n"
     ]
    }
   ],
   "source": [
    "sample_dict={'a':1,'b':2,'c':3,'d':4}\n",
    "key_to_check='b'\n",
    "if key_to_check in sample_dict:\n",
    "    print(f'The key\"{key_to_check}\"exists in the dictionary.')\n",
    "print(\"Traversing the dictionary.\")\n",
    "for key,value in sample_dict.items():\n",
    "    print(F'key:{key},value:{value}')\n",
    "keys_list=list(sample_dict.keys())\n",
    "values_list=list(sample_dict.values())\n",
    "items_list=list(sample_dict.items())\n",
    "print(\"\\nUsing dictionary methods:\")\n",
    "print(f'Keys:{keys_list}')\n",
    "print(f'Values:{values_list}')\n",
    "print(f'Items:{items_list}')"
   ]
  },
  {
   "cell_type": "code",
   "execution_count": null,
   "id": "ffc9d19e-48ad-4b2b-ac0b-754668d3c12e",
   "metadata": {},
   "outputs": [],
   "source": []
  }
 ],
 "metadata": {
  "kernelspec": {
   "display_name": "Python 3 (ipykernel)",
   "language": "python",
   "name": "python3"
  },
  "language_info": {
   "codemirror_mode": {
    "name": "ipython",
    "version": 3
   },
   "file_extension": ".py",
   "mimetype": "text/x-python",
   "name": "python",
   "nbconvert_exporter": "python",
   "pygments_lexer": "ipython3",
   "version": "3.13.5"
  }
 },
 "nbformat": 4,
 "nbformat_minor": 5
}
