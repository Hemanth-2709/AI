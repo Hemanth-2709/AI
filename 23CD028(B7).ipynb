{
 "cells": [
  {
   "cell_type": "code",
   "execution_count": 1,
   "id": "dfa120dd-f053-4147-b86b-1e891604245f",
   "metadata": {},
   "outputs": [
    {
     "name": "stdout",
     "output_type": "stream",
     "text": [
      "[['plant', 'mango'], ['eating', 'mango'], ['seed', 'sprouts'], ['fruit', 'mango'], ['human', 'mango'], ['plant', 'sprouts'], ['fruit', 'sprouts']]\n"
     ]
    }
   ],
   "source": [
    "global facts\n",
    "global rules\n",
    "rules=True\n",
    "facts=[[\"plant\",\"mango\"],[\"eating\",\"mango\"],[\"seed\",\"sprouts\"]]\n",
    "def assert_fact(fact):\n",
    "    global facts\n",
    "    global rules\n",
    "    if not fact in facts:\n",
    "        facts+=[fact]\n",
    "        rules=True\n",
    "while rules:\n",
    "    rules=False\n",
    "    for A1 in facts:\n",
    "        if A1[0]==\"seed\":\n",
    "            assert_fact([\"plant\",A1[1]])\n",
    "        if A1[0]==\"plant\":\n",
    "            assert_fact([\"fruit\",A1[1]])\n",
    "        if A1[0]==\"plant\" and [\"eating\",A1[1]]in facts:\n",
    "            assert_fact([\"human\",A1[1]])\n",
    "print(facts)"
   ]
  },
  {
   "cell_type": "code",
   "execution_count": null,
   "id": "076a1351-c79e-4d0d-89b8-9f7e5633ca47",
   "metadata": {},
   "outputs": [],
   "source": []
  }
 ],
 "metadata": {
  "kernelspec": {
   "display_name": "Python 3 (ipykernel)",
   "language": "python",
   "name": "python3"
  },
  "language_info": {
   "codemirror_mode": {
    "name": "ipython",
    "version": 3
   },
   "file_extension": ".py",
   "mimetype": "text/x-python",
   "name": "python",
   "nbconvert_exporter": "python",
   "pygments_lexer": "ipython3",
   "version": "3.13.5"
  }
 },
 "nbformat": 4,
 "nbformat_minor": 5
}
